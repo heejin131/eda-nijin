{
 "cells": [
  {
   "cell_type": "code",
   "execution_count": 2,
   "id": "fe63e64e-a800-47ab-b931-cee2eaedffce",
   "metadata": {},
   "outputs": [],
   "source": [
    "from president_speech.db.parquet_interpreter import get_parquet_full_path"
   ]
  },
  {
   "cell_type": "code",
   "execution_count": 3,
   "id": "747fd7f2-6c78-491b-be52-57fdf51ba3e2",
   "metadata": {},
   "outputs": [],
   "source": [
    "import pandas as pd"
   ]
  },
  {
   "cell_type": "code",
   "execution_count": 4,
   "id": "53afba03-2f62-4491-ae78-d2019297d65d",
   "metadata": {},
   "outputs": [],
   "source": [
    "data_path = get_parquet_full_path()"
   ]
  },
  {
   "cell_type": "code",
   "execution_count": 9,
   "id": "77130d3b-4ddc-4656-a215-935391ea6019",
   "metadata": {},
   "outputs": [],
   "source": [
    "keyword = \"자유\"\n",
    "df = pd.read_parquet(data_path)"
   ]
  },
  {
   "cell_type": "code",
   "execution_count": 10,
   "id": "2654de07-ca0b-4cf3-9c26-fa7ec2be8ae9",
   "metadata": {},
   "outputs": [],
   "source": [
    "fdf = df[df['speech_text'].str.contains(keyword, case=False)]"
   ]
  },
  {
   "cell_type": "code",
   "execution_count": 14,
   "id": "9eea32cf-7ebc-417f-b0f3-5a152bae016b",
   "metadata": {},
   "outputs": [],
   "source": [
    " presidents_speeches = {\n",
    "      \"박정희\": 513,\n",
    "      \"이승만\": 438,\n",
    "      \"노태우\": 399,\n",
    "      \"김대중\": 305,\n",
    "      \"문재인\": 275,\n",
    "      \"김영삼\": 274,\n",
    "      \"이명박\": 262,\n",
    "      \"전두환\": 242,\n",
    "      \"노무현\": 230,\n",
    "      \"박근혜\": 111,\n",
    "      \"최규하\": 14,\n",
    "      \"윤보선\": 1\n",
    "  }"
   ]
  },
  {
   "cell_type": "code",
   "execution_count": 15,
   "id": "00498820-eeb0-4a81-b939-b08bba14504d",
   "metadata": {},
   "outputs": [],
   "source": [
    "gdf = fdf.groupby(\"president\").size().reset_index(name=\"count\")"
   ]
  },
  {
   "cell_type": "code",
   "execution_count": 16,
   "id": "394e8312-7995-4643-80a4-96e2f1cae7a1",
   "metadata": {},
   "outputs": [
    {
     "ename": "NameError",
     "evalue": "name 'asc' is not defined",
     "output_type": "error",
     "traceback": [
      "\u001b[0;31m---------------------------------------------------------------------------\u001b[0m",
      "\u001b[0;31mNameError\u001b[0m                                 Traceback (most recent call last)",
      "Cell \u001b[0;32mIn[16], line 1\u001b[0m\n\u001b[0;32m----> 1\u001b[0m sdf \u001b[38;5;241m=\u001b[39m gdf\u001b[38;5;241m.\u001b[39msort_values(by\u001b[38;5;241m=\u001b[39m\u001b[38;5;124m'\u001b[39m\u001b[38;5;124mcount\u001b[39m\u001b[38;5;124m'\u001b[39m, ascending\u001b[38;5;241m=\u001b[39m\u001b[43masc\u001b[49m)\u001b[38;5;241m.\u001b[39mreset_index(drop\u001b[38;5;241m=\u001b[39m\u001b[38;5;28;01mTrue\u001b[39;00m)\n",
      "\u001b[0;31mNameError\u001b[0m: name 'asc' is not defined"
     ]
    }
   ],
   "source": [
    "sdf = gdf.sort_values(by='count', ascending=asc).reset_index(drop=True)"
   ]
  },
  {
   "cell_type": "code",
   "execution_count": 17,
   "id": "cdcbed08-04c0-47fd-9cf6-55182421093a",
   "metadata": {},
   "outputs": [
    {
     "data": {
      "text/plain": [
       "dict"
      ]
     },
     "execution_count": 17,
     "metadata": {},
     "output_type": "execute_result"
    }
   ],
   "source": [
    "type(presidents_speeches)"
   ]
  },
  {
   "cell_type": "code",
   "execution_count": 20,
   "id": "9eab5c74-cbc2-4597-8ac5-ba43fc4bdf1e",
   "metadata": {},
   "outputs": [
    {
     "data": {
      "text/plain": [
       "dict_items([('박정희', 513), ('이승만', 438), ('노태우', 399), ('김대중', 305), ('문재인', 275), ('김영삼', 274), ('이명박', 262), ('전두환', 242), ('노무현', 230), ('박근혜', 111), ('최규하', 14), ('윤보선', 1)])"
      ]
     },
     "execution_count": 20,
     "metadata": {},
     "output_type": "execute_result"
    }
   ],
   "source": [
    "presidents_speeches.items()"
   ]
  },
  {
   "cell_type": "code",
   "execution_count": null,
   "id": "9f20b615-42f6-4df5-b0ad-122c5163c803",
   "metadata": {},
   "outputs": [],
   "source": []
  }
 ],
 "metadata": {
  "kernelspec": {
   "display_name": "Python 3 (ipykernel)",
   "language": "python",
   "name": "python3"
  },
  "language_info": {
   "codemirror_mode": {
    "name": "ipython",
    "version": 3
   },
   "file_extension": ".py",
   "mimetype": "text/x-python",
   "name": "python",
   "nbconvert_exporter": "python",
   "pygments_lexer": "ipython3",
   "version": "3.10.12"
  }
 },
 "nbformat": 4,
 "nbformat_minor": 5
}
