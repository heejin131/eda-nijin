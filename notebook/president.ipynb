{
 "cells": [
  {
   "cell_type": "code",
   "execution_count": 12,
   "id": "fe63e64e-a800-47ab-b931-cee2eaedffce",
   "metadata": {},
   "outputs": [],
   "source": [
    "from president_speech.db.parquet_interpreter import get_parquet_full_path #president~모듈에서 get~함수를 가져온다\n",
    "import pandas as pd # 판다스를 가져오고 pd로 정의하겟다. 판다스는 데이터 분석 모델 중 하나임"
   ]
  },
  {
   "cell_type": "code",
   "execution_count": 13,
   "id": "d15042c4-49fa-437b-83e8-3e448ddf0264",
   "metadata": {},
   "outputs": [],
   "source": [
    "keyword = \"자유\"\n",
    "asc = False"
   ]
  },
  {
   "cell_type": "code",
   "execution_count": 14,
   "id": "53afba03-2f62-4491-ae78-d2019297d65d",
   "metadata": {},
   "outputs": [],
   "source": [
    "data_path = get_parquet_full_path() #data_path 변수에 get_parquet_full_path() 함수가 반환한 값(Parquet 파일의 전체 경로)을 저장"
   ]
  },
  {
   "cell_type": "code",
   "execution_count": 15,
   "id": "77130d3b-4ddc-4656-a215-935391ea6019",
   "metadata": {},
   "outputs": [],
   "source": [
    "df = pd.read_parquet(data_path) \n",
    "#pandas 라이브러리에서 제공하는 함수로, Parquet 형식의 파일을 읽어와 DataFrame으로 변환\n",
    "#data_path는 Parquet 파일의 경로\n",
    "#Parquet은 대량의 데이터를 효율적으로 저장하고 처리하기 위해 설계된 열(columnar)-기반의 파일 포맷임\n",
    "##DataFrame이란 2차원 데이터 구조, 다시말해 엑셀에서의 표임 행은 index고 열은 Column"
   ]
  },
  {
   "cell_type": "code",
   "execution_count": 6,
   "id": "2654de07-ca0b-4cf3-9c26-fa7ec2be8ae9",
   "metadata": {},
   "outputs": [],
   "source": [
    "fdf = df[df['speech_text'].str.contains(keyword, case=False)]\n",
    "# str.contains(keyword)는 키워드를 포함한 문자를 가져오겟다는 뜻\n",
    "# case = False는 대소문자를 구분하지 않겠다는 뜻\n",
    "# df['speech_text']는 speech_text열을 가져오겟다는 뜻"
   ]
  },
  {
   "cell_type": "code",
   "execution_count": 16,
   "id": "00498820-eeb0-4a81-b939-b08bba14504d",
   "metadata": {},
   "outputs": [],
   "source": [
    "gdf = fdf.groupby(\"president\").size().reset_index(name=\"count\")\n",
    "# president 열을 하나의 그룹으로 묶음. \n",
    "# size()는 각 그룹에 포함된 행(row)의 개수를 계산\n",
    "# groupby, size를 할 경우, president가 index가 되는데, reset_index를 통해 prsident를 열로 보내고 count라는 열을 추가함"
   ]
  },
  {
   "cell_type": "code",
   "execution_count": 29,
   "id": "394e8312-7995-4643-80a4-96e2f1cae7a1",
   "metadata": {},
   "outputs": [],
   "source": [
    "sdf = gdf.sort_values(by='count', ascending=asc).reset_index(drop=True)\n",
    "# ascending=True면 오름차순 False면 내림차순\n",
    "# sort_values(by='count'는 count열을 기준으로 정렬하겠다. 고로, count를 기준으로 오름차순으로 정렬하겠다~는 뜻\n",
    "# reset_index()는 인덱스를 재설정하는 함수\n",
    "# drop=True는 index를 안넣겠다~ False는 넣겠다~ 라는 뜻"
   ]
  },
  {
   "cell_type": "code",
   "execution_count": 31,
   "id": "1ea8de72-c3e7-4352-ad8a-fb3d0cf27d51",
   "metadata": {},
   "outputs": [
    {
     "data": {
      "text/html": [
       "<div>\n",
       "<style scoped>\n",
       "    .dataframe tbody tr th:only-of-type {\n",
       "        vertical-align: middle;\n",
       "    }\n",
       "\n",
       "    .dataframe tbody tr th {\n",
       "        vertical-align: top;\n",
       "    }\n",
       "\n",
       "    .dataframe thead th {\n",
       "        text-align: right;\n",
       "    }\n",
       "</style>\n",
       "<table border=\"1\" class=\"dataframe\">\n",
       "  <thead>\n",
       "    <tr style=\"text-align: right;\">\n",
       "      <th></th>\n",
       "      <th>president</th>\n",
       "      <th>count</th>\n",
       "    </tr>\n",
       "  </thead>\n",
       "  <tbody>\n",
       "    <tr>\n",
       "      <th>0</th>\n",
       "      <td>박정희</td>\n",
       "      <td>513</td>\n",
       "    </tr>\n",
       "    <tr>\n",
       "      <th>1</th>\n",
       "      <td>이승만</td>\n",
       "      <td>438</td>\n",
       "    </tr>\n",
       "    <tr>\n",
       "      <th>2</th>\n",
       "      <td>노태우</td>\n",
       "      <td>399</td>\n",
       "    </tr>\n",
       "    <tr>\n",
       "      <th>3</th>\n",
       "      <td>김대중</td>\n",
       "      <td>305</td>\n",
       "    </tr>\n",
       "    <tr>\n",
       "      <th>4</th>\n",
       "      <td>문재인</td>\n",
       "      <td>275</td>\n",
       "    </tr>\n",
       "    <tr>\n",
       "      <th>5</th>\n",
       "      <td>김영삼</td>\n",
       "      <td>274</td>\n",
       "    </tr>\n",
       "    <tr>\n",
       "      <th>6</th>\n",
       "      <td>이명박</td>\n",
       "      <td>262</td>\n",
       "    </tr>\n",
       "    <tr>\n",
       "      <th>7</th>\n",
       "      <td>전두환</td>\n",
       "      <td>242</td>\n",
       "    </tr>\n",
       "    <tr>\n",
       "      <th>8</th>\n",
       "      <td>노무현</td>\n",
       "      <td>230</td>\n",
       "    </tr>\n",
       "    <tr>\n",
       "      <th>9</th>\n",
       "      <td>박근혜</td>\n",
       "      <td>111</td>\n",
       "    </tr>\n",
       "    <tr>\n",
       "      <th>10</th>\n",
       "      <td>최규하</td>\n",
       "      <td>14</td>\n",
       "    </tr>\n",
       "    <tr>\n",
       "      <th>11</th>\n",
       "      <td>윤보선</td>\n",
       "      <td>1</td>\n",
       "    </tr>\n",
       "  </tbody>\n",
       "</table>\n",
       "</div>"
      ],
      "text/plain": [
       "   president  count\n",
       "0        박정희    513\n",
       "1        이승만    438\n",
       "2        노태우    399\n",
       "3        김대중    305\n",
       "4        문재인    275\n",
       "5        김영삼    274\n",
       "6        이명박    262\n",
       "7        전두환    242\n",
       "8        노무현    230\n",
       "9        박근혜    111\n",
       "10       최규하     14\n",
       "11       윤보선      1"
      ]
     },
     "execution_count": 31,
     "metadata": {},
     "output_type": "execute_result"
    }
   ],
   "source": [
    "sdf"
   ]
  },
  {
   "cell_type": "code",
   "execution_count": 32,
   "id": "9eea32cf-7ebc-417f-b0f3-5a152bae016b",
   "metadata": {},
   "outputs": [],
   "source": [
    " presidents_speeches = {\n",
    "      \"박정희\": 513,\n",
    "      \"이승만\": 438,\n",
    "      \"노태우\": 399,\n",
    "      \"김대중\": 305,\n",
    "      \"문재인\": 275,\n",
    "      \"김영삼\": 274,\n",
    "      \"이명박\": 262,\n",
    "      \"전두환\": 242,\n",
    "      \"노무현\": 230,\n",
    "      \"박근혜\": 111,\n",
    "      \"최규하\": 14,\n",
    "      \"윤보선\": 1\n",
    "  }"
   ]
  },
  {
   "cell_type": "code",
   "execution_count": 33,
   "id": "cdcbed08-04c0-47fd-9cf6-55182421093a",
   "metadata": {},
   "outputs": [
    {
     "data": {
      "text/plain": [
       "dict"
      ]
     },
     "execution_count": 33,
     "metadata": {},
     "output_type": "execute_result"
    }
   ],
   "source": [
    "type(presidents_speeches)"
   ]
  },
  {
   "cell_type": "code",
   "execution_count": 34,
   "id": "ba172b6a-005f-4afc-aeb7-403e50f7e583",
   "metadata": {},
   "outputs": [
    {
     "data": {
      "text/plain": [
       "dict_items"
      ]
     },
     "execution_count": 34,
     "metadata": {},
     "output_type": "execute_result"
    }
   ],
   "source": [
    "type(presidents_speeches.items())"
   ]
  },
  {
   "cell_type": "code",
   "execution_count": 35,
   "id": "9eab5c74-cbc2-4597-8ac5-ba43fc4bdf1e",
   "metadata": {},
   "outputs": [
    {
     "data": {
      "text/plain": [
       "dict_items([('박정희', 513), ('이승만', 438), ('노태우', 399), ('김대중', 305), ('문재인', 275), ('김영삼', 274), ('이명박', 262), ('전두환', 242), ('노무현', 230), ('박근혜', 111), ('최규하', 14), ('윤보선', 1)])"
      ]
     },
     "execution_count": 35,
     "metadata": {},
     "output_type": "execute_result"
    }
   ],
   "source": [
    "presidents_speeches.items()"
   ]
  },
  {
   "cell_type": "code",
   "execution_count": 39,
   "id": "9f20b615-42f6-4df5-b0ad-122c5163c803",
   "metadata": {},
   "outputs": [
    {
     "name": "stdout",
     "output_type": "stream",
     "text": [
      "박정희 -> 513\n",
      "이승만 -> 438\n",
      "노태우 -> 399\n"
     ]
    }
   ],
   "source": [
    "for n, i in [('박정희', 513), ('이승만', 438), ('노태우', 399)]:\n",
    "    print(f\"{n} -> {i}\")\n",
    "# print(f\"\") 즉 f문자열에서 변수는 {}중괄호 안에 넣어줘야 함. ()혹은 []일 경우 이 자체로 텍스트로 봄\n",
    "# f\"문자열 {변수} 문자열\""
   ]
  },
  {
   "cell_type": "code",
   "execution_count": 40,
   "id": "44117dc8-981e-412b-a4ef-5a8276d7845f",
   "metadata": {},
   "outputs": [
    {
     "name": "stdout",
     "output_type": "stream",
     "text": [
      "박정희 -> 513\n",
      "이승만 -> 438\n",
      "노태우 -> 399\n",
      "김대중 -> 305\n",
      "문재인 -> 275\n",
      "김영삼 -> 274\n",
      "이명박 -> 262\n",
      "전두환 -> 242\n",
      "노무현 -> 230\n",
      "박근혜 -> 111\n",
      "최규하 -> 14\n",
      "윤보선 -> 1\n"
     ]
    }
   ],
   "source": [
    "for p_name, s_count in presidents_speeches.items():\n",
    "    #print(f\"{p_name} -> {s_count}\")\n",
    "    print( p_name + \" -> \" + str(s_count) )"
   ]
  },
  {
   "cell_type": "code",
   "execution_count": 41,
   "id": "9ae7b1d7-ca5d-4b1b-ab36-7e8acb53bda9",
   "metadata": {},
   "outputs": [
    {
     "name": "stdout",
     "output_type": "stream",
     "text": [
      "--513--\n",
      "--438--\n",
      "--399--\n"
     ]
    }
   ],
   "source": [
    "for _, n in [('박정희', 513), ('이승만', 438), ('노태우', 399)]:\n",
    "    print(f\"--{n}--\")"
   ]
  },
  {
   "cell_type": "code",
   "execution_count": 23,
   "id": "12a83872-6f70-45a1-927f-7cddfa0aed95",
   "metadata": {},
   "outputs": [
    {
     "name": "stdout",
     "output_type": "stream",
     "text": [
      "박정희 -> 513\n",
      "이승만 -> 438\n",
      "노태우 -> 399\n",
      "김대중 -> 305\n",
      "문재인 -> 275\n",
      "김영삼 -> 274\n",
      "이명박 -> 262\n",
      "전두환 -> 242\n",
      "노무현 -> 230\n",
      "박근혜 -> 111\n",
      "최규하 -> 14\n",
      "윤보선 -> 1\n"
     ]
    }
   ],
   "source": [
    "for p_name, s_count in presidents_speeches.items():\n",
    "    president_row = sdf[sdf[\"president\"] == p_name]\n",
    "    print( p_name + \" -> \" + str(s_count) )"
   ]
  },
  {
   "cell_type": "code",
   "execution_count": 45,
   "id": "46617078-4d85-4ae8-ba43-230d25c910e3",
   "metadata": {},
   "outputs": [
    {
     "name": "stdout",
     "output_type": "stream",
     "text": [
      "0:박정희 = True\n",
      "1:이승만 = True\n",
      "2:노태우 = True\n",
      "3:김대중 = True\n",
      "4:문재인 = True\n",
      "5:김영삼 = True\n",
      "6:이명박 = True\n",
      "7:전두환 = True\n",
      "8:노무현 = True\n",
      "9:박근혜 = True\n",
      "10:최규하 = True\n",
      "11:윤보선 = True\n"
     ]
    }
   ],
   "source": [
    "# enumerate()\n",
    "for i, (p_name, s_count) in enumerate(presidents_speeches.items()):\n",
    "    president_row = sdf[sdf[\"president\"] == p_name]\n",
    "    is_ok = president_row.iloc[0][\"count\"] == s_count\n",
    "    print(f\"{i}:{p_name} = {is_ok}\")"
   ]
  },
  {
   "cell_type": "code",
   "execution_count": 49,
   "id": "f8472c35-7458-4300-a880-4af9f8b7aaed",
   "metadata": {},
   "outputs": [],
   "source": [
    "import pytest\n",
    "@pytest.mark.parametrize(\"is_asc, president\", [(), ()]) \n",
    "def test_정열_및_행수제한(a,b):\n",
    "    #given\n",
    "    row_count = 3\n",
    "    is_asc = True\n",
    "\n",
    "    #when\n",
    "    df = group_by_count(keyword = \"자유\", asc=is_asc, rcnt=row_count)\n",
    "\n",
    "    #then\n",
    "    assert isinstance(df, pd.DataFrame)\n",
    "    assert df.iloc[0][\"president\"] == \"윤보선\"\n",
    "    assert len(df) == row_count\n",
    "    assert eval(is_asc) == president"
   ]
  },
  {
   "cell_type": "code",
   "execution_count": null,
   "id": "c9bfcc25-2f90-4310-92f8-52bf7efc38ae",
   "metadata": {},
   "outputs": [],
   "source": []
  }
 ],
 "metadata": {
  "kernelspec": {
   "display_name": "Python 3 (ipykernel)",
   "language": "python",
   "name": "python3"
  },
  "language_info": {
   "codemirror_mode": {
    "name": "ipython",
    "version": 3
   },
   "file_extension": ".py",
   "mimetype": "text/x-python",
   "name": "python",
   "nbconvert_exporter": "python",
   "pygments_lexer": "ipython3",
   "version": "3.10.12"
  }
 },
 "nbformat": 4,
 "nbformat_minor": 5
}
