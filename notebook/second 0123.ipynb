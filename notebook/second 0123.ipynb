{
 "cells": [
  {
   "cell_type": "code",
   "execution_count": 1,
   "id": "b70021a7-913b-4fd8-b1c4-23a450a432ce",
   "metadata": {},
   "outputs": [],
   "source": [
    "from president_speech.db.parquet_interpreter import get_parquet_full_path"
   ]
  },
  {
   "cell_type": "code",
   "execution_count": 4,
   "id": "58f68daa-ebc2-4cbc-8445-3549671caf42",
   "metadata": {},
   "outputs": [],
   "source": [
    "import pandas as pd\n",
    "import typer"
   ]
  },
  {
   "cell_type": "code",
   "execution_count": null,
   "id": "b31bf55a-2219-4932-9dbf-03bc75d75a35",
   "metadata": {},
   "outputs": [],
   "source": []
  },
  {
   "cell_type": "code",
   "execution_count": 19,
   "id": "a89eeb77-39fd-4189-97d3-740e1c31d6b8",
   "metadata": {},
   "outputs": [
    {
     "ename": "NameError",
     "evalue": "name 'fdf' is not defined",
     "output_type": "error",
     "traceback": [
      "\u001b[0;31m---------------------------------------------------------------------------\u001b[0m",
      "\u001b[0;31mNameError\u001b[0m                                 Traceback (most recent call last)",
      "Cell \u001b[0;32mIn[19], line 13\u001b[0m\n\u001b[1;32m     11\u001b[0m     df \u001b[38;5;241m=\u001b[39m pd\u001b[38;5;241m.\u001b[39mread_parquet(data_path)\n\u001b[1;32m     12\u001b[0m     fdf \u001b[38;5;241m=\u001b[39m df[df[\u001b[38;5;124m'\u001b[39m\u001b[38;5;124mspeech_text\u001b[39m\u001b[38;5;124m'\u001b[39m]\u001b[38;5;241m.\u001b[39mstr\u001b[38;5;241m.\u001b[39mcontains(keyword, case\u001b[38;5;241m=\u001b[39m\u001b[38;5;28;01mFalse\u001b[39;00m)]\n\u001b[0;32m---> 13\u001b[0m \u001b[38;5;28mprint\u001b[39m(\u001b[43mfdf\u001b[49m)\n",
      "\u001b[0;31mNameError\u001b[0m: name 'fdf' is not defined"
     ]
    }
   ],
   "source": [
    "def add_keyword_count(df: pd.DataFrame, keyword: str) -> pd.DataFrame:\n",
    "    \"\"\"\n",
    "    DataFrame에 keyword_count 컬럼을 추가하여 반환합니다.\n",
    "    각 speech_text에서 keyword가 등장하는 횟수를 계산합니다.\n",
    "    \"\"\"\n",
    "    # keyword_count 컬럼 추가\n",
    "    df['keyword_count'] = df['speech_text'].str.count(keyword)\n",
    "    return df\n",
    "def group_by_count(keyword: str, asc: bool=False, rcnt: int=12, keyword_sum: bool=False) -> pd.DataFrame:\n",
    "    data_path = get_parquet_full_path()\n",
    "    df = pd.read_parquet(data_path)\n",
    "    fdf = df[df['speech_text'].str.contains(keyword, case=False)]\n",
    "print(fdf)"
   ]
  },
  {
   "cell_type": "code",
   "execution_count": null,
   "id": "1b795b2c-8a83-4d2c-8a02-de710a608660",
   "metadata": {},
   "outputs": [],
   "source": []
  },
  {
   "cell_type": "code",
   "execution_count": 14,
   "id": "764d4b42-f1bb-456d-a6ad-632a837d7960",
   "metadata": {},
   "outputs": [],
   "source": [
    "def group_by_count(keyword: str, asc: bool=False, rcnt: int=12, keyword_sum: bool=False) -> pd.DataFrame:\n",
    "    data_path = get_parquet_full_path()\n",
    "    df = pd.read_parquet(data_path)\n",
    "    fdf = df[df['speech_text'].str.contains(keyword, case=False)]\n",
    "    if(keyword_sum):\n",
    "        fdf = add_keyword_count(fdf.copy(), keyword)\n",
    "        gdf = fdf.groupby(\"president\").agg(\n",
    "        count=(\"speech_text\", \"size\"), # 연설 개수\n",
    "        keyword_sum=(\"keyword_count\", \"sum\") # keyword 발생 횟수 합산\n",
    "        )\n",
    "        sdf = gdf.sort_values(by=[\"keyword_sum\",'count'], ascending=[asc, asc]).reset_index()\n",
    "    else:\n",
    "        gdf = fdf.groupby(\"president\").size().reset_index(name=\"count\")\n",
    "        sdf = gdf.sort_values(by='count',ascendong=asc).reset_index(drop=True)\n",
    "\n",
    "    rdf = sdf.head(rcnt)\n",
    "    return rdf"
   ]
  },
  {
   "cell_type": "code",
   "execution_count": null,
   "id": "5946680e-5e68-42af-a77e-b045b039a0cf",
   "metadata": {},
   "outputs": [],
   "source": []
  }
 ],
 "metadata": {
  "kernelspec": {
   "display_name": "Python 3 (ipykernel)",
   "language": "python",
   "name": "python3"
  },
  "language_info": {
   "codemirror_mode": {
    "name": "ipython",
    "version": 3
   },
   "file_extension": ".py",
   "mimetype": "text/x-python",
   "name": "python",
   "nbconvert_exporter": "python",
   "pygments_lexer": "ipython3",
   "version": "3.10.12"
  }
 },
 "nbformat": 4,
 "nbformat_minor": 5
}
