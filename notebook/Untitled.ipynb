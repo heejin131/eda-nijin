{
 "cells": [
  {
   "cell_type": "code",
   "execution_count": 3,
   "id": "5e5be8a5-a428-47b8-9f62-fab67cc4aad2",
   "metadata": {},
   "outputs": [],
   "source": [
    "from president_speech.db.parquet_interpreter import get_parquet_full_path\n",
    "import pandas as pd\n",
    "import typer\n",
    "\n",
    "def group_by_count(keyword: str):\n",
    "    # TODO: ascendong, 출력 rows size\n",
    "    # pytest 코드를 만들어보세요.\n",
    "    data_path = get_parquet_full_path()\n",
    "    df=pd.read_parquet(data_path)\n",
    "    fdf = df[df['speech_text'].str.contains(keyword, case=False)]\n",
    "    gdf=fdf.groupby(\"president\").size().reset_index(name=\"count\")\n",
    "    sdf = gdf.sort_values(by='count', ascending=False).reset_index(drop=True)\n",
    "    print(sdf.to_string(index=False))\n",
    "\n",
    "def entry_point():\n",
    "    typer.run(group_by_count)"
   ]
  },
  {
   "cell_type": "code",
   "execution_count": 5,
   "id": "42ef2db3-a83d-4cda-a56d-b4232c87b4ac",
   "metadata": {},
   "outputs": [
    {
     "name": "stdout",
     "output_type": "stream",
     "text": [
      "president  count\n",
      "      문재인   1161\n",
      "      박정희   1125\n",
      "      이명박    808\n",
      "      김대중    728\n",
      "      김영삼    642\n",
      "      전두환    583\n",
      "      노무현    558\n",
      "      노태우    556\n",
      "      이승만    425\n",
      "      박근혜    332\n",
      "      최규하     58\n",
      "      윤보선      3\n"
     ]
    }
   ],
   "source": [
    "group_by_count(\"국민\")"
   ]
  },
  {
   "cell_type": "code",
   "execution_count": null,
   "id": "5967bb29-d874-4308-a89c-422eca7019d1",
   "metadata": {},
   "outputs": [],
   "source": []
  },
  {
   "cell_type": "code",
   "execution_count": null,
   "id": "5a3855bc-627b-453f-be83-0c8d1aca4061",
   "metadata": {},
   "outputs": [],
   "source": []
  }
 ],
 "metadata": {
  "kernelspec": {
   "display_name": "Python 3 (ipykernel)",
   "language": "python",
   "name": "python3"
  },
  "language_info": {
   "codemirror_mode": {
    "name": "ipython",
    "version": 3
   },
   "file_extension": ".py",
   "mimetype": "text/x-python",
   "name": "python",
   "nbconvert_exporter": "python",
   "pygments_lexer": "ipython3",
   "version": "3.10.12"
  }
 },
 "nbformat": 4,
 "nbformat_minor": 5
}
