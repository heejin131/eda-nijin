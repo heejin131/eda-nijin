{
 "cells": [
  {
   "cell_type": "code",
   "execution_count": 1,
   "id": "95af2c57-c97a-41f0-8a23-17f888697789",
   "metadata": {},
   "outputs": [],
   "source": [
    "from president_speech.db.parquet_interpreter import read_parquet\n",
    "import pandas as pd"
   ]
  },
  {
   "cell_type": "code",
   "execution_count": 2,
   "id": "3289484c-6081-437d-82c6-76d11fd33c44",
   "metadata": {},
   "outputs": [
    {
     "data": {
      "text/plain": [
       "division_number     int64\n",
       "president          object\n",
       "title              object\n",
       "date               object\n",
       "location           object\n",
       "kind               object\n",
       "speech_text        object\n",
       "dtype: object"
      ]
     },
     "execution_count": 2,
     "metadata": {},
     "output_type": "execute_result"
    }
   ],
   "source": [
    "df = read_parquet()\n",
    "df.dtypes"
   ]
  },
  {
   "cell_type": "code",
   "execution_count": 4,
   "id": "3944ce65-7f5a-4b39-aa3b-c4c586fe5d84",
   "metadata": {},
   "outputs": [
    {
     "data": {
      "text/plain": [
       "array(['취임사', '기념사', '신년사', '성명/담화문', '국회연설', '환영사', '기타', '만찬사', '축사',\n",
       "       '회의'], dtype=object)"
      ]
     },
     "execution_count": 4,
     "metadata": {},
     "output_type": "execute_result"
    }
   ],
   "source": [
    "df['kind'].unique() #unique는 중복값제거"
   ]
  },
  {
   "cell_type": "code",
   "execution_count": 5,
   "id": "cc574935-645c-483f-8688-4a9b2c9e8aee",
   "metadata": {},
   "outputs": [
    {
     "data": {
      "text/plain": [
       "5368         취임사\n",
       "5369         기념사\n",
       "5370         신년사\n",
       "5371      성명/담화문\n",
       "5372         기념사\n",
       "           ...  \n",
       "102587        회의\n",
       "102588        회의\n",
       "102589        회의\n",
       "102590        회의\n",
       "102591        회의\n",
       "Name: kind, Length: 8771, dtype: object"
      ]
     },
     "execution_count": 5,
     "metadata": {},
     "output_type": "execute_result"
    }
   ],
   "source": [
    "df['kind']"
   ]
  },
  {
   "cell_type": "code",
   "execution_count": 7,
   "id": "6c612740-7a31-4bc2-a25a-3872853d7dee",
   "metadata": {},
   "outputs": [
    {
     "data": {
      "text/plain": [
       "5368    1963.12.17\n",
       "Name: date, dtype: object"
      ]
     },
     "execution_count": 7,
     "metadata": {},
     "output_type": "execute_result"
    }
   ],
   "source": [
    "df['date'].head(1)"
   ]
  },
  {
   "cell_type": "code",
   "execution_count": null,
   "id": "0fe196f8-d3dd-4822-b10c-5380b7541baa",
   "metadata": {},
   "outputs": [],
   "source": []
  }
 ],
 "metadata": {
  "kernelspec": {
   "display_name": "Python 3 (ipykernel)",
   "language": "python",
   "name": "python3"
  },
  "language_info": {
   "codemirror_mode": {
    "name": "ipython",
    "version": 3
   },
   "file_extension": ".py",
   "mimetype": "text/x-python",
   "name": "python",
   "nbconvert_exporter": "python",
   "pygments_lexer": "ipython3",
   "version": "3.10.12"
  }
 },
 "nbformat": 4,
 "nbformat_minor": 5
}
