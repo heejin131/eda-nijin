{
 "cells": [
  {
   "cell_type": "markdown",
   "id": "464aea5d-19b8-4364-98f3-64ce1c4befdd",
   "metadata": {},
   "source": [
    "## 내장함수 연습"
   ]
  },
  {
   "cell_type": "code",
   "execution_count": null,
   "id": "89784b6e-fd1d-4778-bda3-9032831f6203",
   "metadata": {},
   "outputs": [],
   "source": []
  },
  {
   "cell_type": "code",
   "execution_count": null,
   "id": "dd658d23-89d3-401d-bf32-4468ffe2a522",
   "metadata": {},
   "outputs": [],
   "source": []
  }
 ],
 "metadata": {
  "kernelspec": {
   "display_name": "Python 3 (ipykernel)",
   "language": "python",
   "name": "python3"
  },
  "language_info": {
   "codemirror_mode": {
    "name": "ipython",
    "version": 3
   },
   "file_extension": ".py",
   "mimetype": "text/x-python",
   "name": "python",
   "nbconvert_exporter": "python",
   "pygments_lexer": "ipython3",
   "version": "3.10.12"
  }
 },
 "nbformat": 4,
 "nbformat_minor": 5
}
